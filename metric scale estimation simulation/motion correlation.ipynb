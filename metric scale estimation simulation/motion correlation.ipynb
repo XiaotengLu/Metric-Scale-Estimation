{
 "cells": [
  {
   "cell_type": "code",
   "execution_count": 29,
   "metadata": {
    "ExecuteTime": {
     "end_time": "2019-02-21T12:24:57.853437Z",
     "start_time": "2019-02-21T12:24:57.848794Z"
    }
   },
   "outputs": [],
   "source": [
    "import numpy as np"
   ]
  },
  {
   "cell_type": "code",
   "execution_count": 274,
   "metadata": {
    "ExecuteTime": {
     "end_time": "2019-02-21T12:37:29.946451Z",
     "start_time": "2019-02-21T12:37:29.942001Z"
    }
   },
   "outputs": [],
   "source": [
    "r_cam = 0.15\n",
    "r_hum = 3\n",
    "omg_cam = 4 * np.pi\n",
    "omg_hum = 0.5 * np.pi"
   ]
  },
  {
   "cell_type": "code",
   "execution_count": 275,
   "metadata": {
    "ExecuteTime": {
     "end_time": "2019-02-21T12:37:30.301980Z",
     "start_time": "2019-02-21T12:37:30.290154Z"
    }
   },
   "outputs": [],
   "source": [
    "#time range\n",
    "t_range = np.arange(0, 5 + 0.05, 0.05)\n",
    "t_len = len(t_range)\n",
    "#camera coordinate\n",
    "x_cam, y_cam, z_cam = 10, 4, 5\n",
    "#human coordinate\n",
    "x_hum = y_hum = z_hum = 10\n",
    "#camera trajectory\n",
    "px_cam = x_cam + r_cam * np.cos(omg_cam * t_range + np.pi)\n",
    "py_cam = y_cam + np.zeros(t_len)\n",
    "pz_cam = z_cam + r_cam * np.sin(omg_cam * t_range + np.pi)\n",
    "#human trajectory\n",
    "px_hum = x_hum + r_hum *np.sin(omg_hum * t_range)\n",
    "py_hum = y_hum + r_hum * np.cos(omg_hum * t_range)\n",
    "pz_hum = z_hum + np.zeros(t_len)\n",
    "#d trajectory\n",
    "px_d = px_hum - px_cam\n",
    "py_d = py_hum - py_cam\n",
    "pz_d = pz_hum - py_cam\n",
    "scale = 5.43#5431.2\n",
    "px_d = px_d / scale\n",
    "py_d = py_d / scale\n",
    "pz_d = pz_d / scale"
   ]
  },
  {
   "cell_type": "code",
   "execution_count": 276,
   "metadata": {
    "ExecuteTime": {
     "end_time": "2019-02-21T12:37:30.646791Z",
     "start_time": "2019-02-21T12:37:30.638540Z"
    }
   },
   "outputs": [
    {
     "name": "stdout",
     "output_type": "stream",
     "text": [
      "101\n",
      "[ 9.85        9.87864745  9.95364745 10.04635255 10.12135255 10.15\n",
      " 10.12135255 10.04635255  9.95364745  9.87864745]\n",
      "[0.02762431 0.0656961  0.09496426 0.12043896 0.14837909 0.183803\n",
      " 0.22847494 0.28013686 0.33327961 0.38115961]\n"
     ]
    }
   ],
   "source": [
    "#evaluation\n",
    "print(t_len)\n",
    "print(px_cam[0:10])\n",
    "print(px_d[0:10])"
   ]
  },
  {
   "cell_type": "code",
   "execution_count": 277,
   "metadata": {
    "ExecuteTime": {
     "end_time": "2019-02-21T12:37:31.017745Z",
     "start_time": "2019-02-21T12:37:30.999804Z"
    }
   },
   "outputs": [],
   "source": [
    "#motion calculation\n",
    "cam_motion = np.zeros((t_len-1,3))\n",
    "diff_motion = np.zeros((t_len-1,3))\n",
    "for i in range(t_len-1):\n",
    "    m_cam_k = np.zeros((1,3))\n",
    "    m_diff_k = np.zeros((1,3))\n",
    "    m_cam_k[0][0] = (px_cam[i+1] - px_cam[i]) / 0.05\n",
    "    m_cam_k[0][1] = (py_cam[i+1] - py_cam[i]) / 0.05\n",
    "    m_cam_k[0][2] = (pz_cam[i+1] - pz_cam[i]) / 0.05\n",
    "    m_diff_k[0][0] = (px_d[i+1] - px_d[i]) / 0.05\n",
    "    m_diff_k[0][1] = (py_d[i+1] - py_d[i]) / 0.05\n",
    "    m_diff_k[0][2] = (pz_d[i+1] - pz_d[i]) / 0.05\n",
    "    cam_motion[i] = m_cam_k\n",
    "    diff_motion[i] = m_diff_k\n",
    "mc_mean = cam_motion.mean(axis = 0)\n",
    "md_mean = diff_motion.mean(axis = 0)"
   ]
  },
  {
   "cell_type": "code",
   "execution_count": 278,
   "metadata": {
    "ExecuteTime": {
     "end_time": "2019-02-21T12:37:31.358684Z",
     "start_time": "2019-02-21T12:37:31.349812Z"
    }
   },
   "outputs": [
    {
     "name": "stdout",
     "output_type": "stream",
     "text": [
      "[[ 0.57294902  0.         -1.76335576]\n",
      " [ 1.5         0.         -1.08981379]\n",
      " [ 1.85410197  0.          0.        ]\n",
      " [ 1.5         0.          1.08981379]\n",
      " [ 0.57294902  0.          1.76335576]\n",
      " [-0.57294902  0.          1.76335576]\n",
      " [-1.5         0.          1.08981379]\n",
      " [-1.85410197  0.          0.        ]\n",
      " [-1.5         0.         -1.08981379]\n",
      " [-0.57294902  0.         -1.76335576]]\n",
      "[[ 0.76143586 -0.03406261  0.        ]\n",
      " [ 0.5853632  -0.10197782  0.        ]\n",
      " [ 0.50949392 -0.16926431  0.        ]\n",
      " [ 0.55880255 -0.23550723  0.        ]\n",
      " [ 0.70847832 -0.30029816  0.        ]\n",
      " [ 0.89343887 -0.36323766  0.        ]\n",
      " [ 1.03323829 -0.42393768  0.        ]\n",
      " [ 1.06285511 -0.48202398  0.        ]\n",
      " [ 0.95759996 -0.53713844  0.        ]\n",
      " [ 0.74262854 -0.58894126  0.        ]]\n",
      "[0. 0. 0.]\n",
      "[ 0.11049724 -0.11049724  0.        ]\n"
     ]
    }
   ],
   "source": [
    "#evaluation\n",
    "print(cam_motion[0:10])\n",
    "print(diff_motion[0:10])\n",
    "print(mc_mean)\n",
    "print(md_mean)"
   ]
  },
  {
   "cell_type": "code",
   "execution_count": 279,
   "metadata": {
    "ExecuteTime": {
     "end_time": "2019-02-21T12:37:31.735343Z",
     "start_time": "2019-02-21T12:37:31.723654Z"
    }
   },
   "outputs": [],
   "source": [
    "def cov_cal(motion1, motion2, motion1_mean, motion2_mean):\n",
    "    matrix_sum = np.zeros((3,3))\n",
    "    for i in range(t_len-1):\n",
    "        matrix_sum += (motion1[i] - motion1_mean).T * (motion2[i] - motion2_mean)\n",
    "    result = matrix_sum/(t_len-2)\n",
    "    return result\n",
    "    \n",
    "#correlation calculation\n",
    "cov_md_mc = cov_cal(diff_motion, cam_motion, md_mean, mc_mean)\n",
    "cov_mc_mc = cov_cal(cam_motion, cam_motion, mc_mean, mc_mean)"
   ]
  },
  {
   "cell_type": "code",
   "execution_count": 280,
   "metadata": {
    "ExecuteTime": {
     "end_time": "2019-02-21T12:37:32.109827Z",
     "start_time": "2019-02-21T12:37:32.099786Z"
    }
   },
   "outputs": [
    {
     "name": "stdout",
     "output_type": "stream",
     "text": [
      "[[-0.2930416  0.         0.       ]\n",
      " [-0.2930416  0.         0.       ]\n",
      " [-0.2930416  0.         0.       ]]\n",
      "[[1.73620914 0.         1.73620914]\n",
      " [1.73620914 0.         1.73620914]\n",
      " [1.73620914 0.         1.73620914]]\n"
     ]
    },
    {
     "data": {
      "text/plain": [
       "array([[3.01442218, 0.        , 3.01442218],\n",
       "       [3.01442218, 0.        , 3.01442218],\n",
       "       [3.01442218, 0.        , 3.01442218]])"
      ]
     },
     "execution_count": 280,
     "metadata": {},
     "output_type": "execute_result"
    }
   ],
   "source": [
    "#evaluation\n",
    "print(cov_md_mc)\n",
    "print(cov_mc_mc)\n",
    "cov_mc_mc * cov_mc_mc"
   ]
  },
  {
   "cell_type": "code",
   "execution_count": 281,
   "metadata": {
    "ExecuteTime": {
     "end_time": "2019-02-21T12:37:32.558959Z",
     "start_time": "2019-02-21T12:37:32.553840Z"
    }
   },
   "outputs": [],
   "source": [
    "#optimal scale S\n",
    "A = cov_md_mc * cov_mc_mc\n",
    "B = cov_md_mc * cov_md_mc\n",
    "S = -A.sum()/B.sum()"
   ]
  },
  {
   "cell_type": "code",
   "execution_count": 282,
   "metadata": {
    "ExecuteTime": {
     "end_time": "2019-02-21T12:37:33.025985Z",
     "start_time": "2019-02-21T12:37:33.019564Z"
    }
   },
   "outputs": [
    {
     "name": "stdout",
     "output_type": "stream",
     "text": [
      "5.924787237328563\n"
     ]
    }
   ],
   "source": [
    "#solution\n",
    "print(S)\n",
    "#这个结果当时间积累越长，也就是观测数据越多的时候越接近于理论值，也就是物体的真实scale"
   ]
  },
  {
   "cell_type": "code",
   "execution_count": null,
   "metadata": {},
   "outputs": [],
   "source": []
  },
  {
   "cell_type": "code",
   "execution_count": null,
   "metadata": {},
   "outputs": [],
   "source": []
  }
 ],
 "metadata": {
  "kernelspec": {
   "display_name": "Python 3",
   "language": "python",
   "name": "python3"
  },
  "language_info": {
   "codemirror_mode": {
    "name": "ipython",
    "version": 3
   },
   "file_extension": ".py",
   "mimetype": "text/x-python",
   "name": "python",
   "nbconvert_exporter": "python",
   "pygments_lexer": "ipython3",
   "version": "3.7.0"
  },
  "toc": {
   "base_numbering": 1,
   "nav_menu": {},
   "number_sections": true,
   "sideBar": true,
   "skip_h1_title": false,
   "title_cell": "Table of Contents",
   "title_sidebar": "Contents",
   "toc_cell": false,
   "toc_position": {},
   "toc_section_display": true,
   "toc_window_display": false
  },
  "varInspector": {
   "cols": {
    "lenName": 16,
    "lenType": 16,
    "lenVar": 40
   },
   "kernels_config": {
    "python": {
     "delete_cmd_postfix": "",
     "delete_cmd_prefix": "del ",
     "library": "var_list.py",
     "varRefreshCmd": "print(var_dic_list())"
    },
    "r": {
     "delete_cmd_postfix": ") ",
     "delete_cmd_prefix": "rm(",
     "library": "var_list.r",
     "varRefreshCmd": "cat(var_dic_list()) "
    }
   },
   "types_to_exclude": [
    "module",
    "function",
    "builtin_function_or_method",
    "instance",
    "_Feature"
   ],
   "window_display": false
  }
 },
 "nbformat": 4,
 "nbformat_minor": 2
}
