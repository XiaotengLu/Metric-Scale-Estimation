{
 "cells": [
  {
   "cell_type": "code",
   "execution_count": 65,
   "metadata": {
    "ExecuteTime": {
     "end_time": "2019-01-15T06:22:28.821601Z",
     "start_time": "2019-01-15T06:22:28.817536Z"
    }
   },
   "outputs": [],
   "source": [
    "import numpy as np"
   ]
  },
  {
   "cell_type": "code",
   "execution_count": 79,
   "metadata": {
    "ExecuteTime": {
     "end_time": "2019-01-15T06:46:34.320727Z",
     "start_time": "2019-01-15T06:46:34.315819Z"
    }
   },
   "outputs": [],
   "source": [
    "r_cam = 0.03\n",
    "r_hum = 1\n",
    "omg_cam = 4 * np.pi\n",
    "omg_hum = 0.25 * np.pi"
   ]
  },
  {
   "cell_type": "code",
   "execution_count": 96,
   "metadata": {
    "ExecuteTime": {
     "end_time": "2019-01-15T07:12:26.776650Z",
     "start_time": "2019-01-15T07:12:26.766976Z"
    }
   },
   "outputs": [],
   "source": [
    "#time range\n",
    "t_range = np.arange(0, 0.1 + 0.05, 0.05)\n",
    "t_len = len(t_range)\n",
    "#camera coordinate\n",
    "x_cam, y_cam, z_cam = 10, 4, 5\n",
    "#human coordinate\n",
    "x_hum = y_hum = z_hum = 10\n",
    "#camera trajectory\n",
    "px_cam = x_cam + r_cam * np.cos(omg_cam * t_range + np.pi)\n",
    "py_cam = y_cam + np.zeros(t_len)\n",
    "pz_cam = z_cam + r_cam * np.sin(omg_cam * t_range + np.pi)\n",
    "#human trajectory\n",
    "px_hum = x_hum + r_hum *np.sin(omg_hum * t_range)\n",
    "py_hum = y_hum + r_hum * np.cos(omg_hum * t_range)\n",
    "pz_hum = z_hum + np.zeros(t_len)\n",
    "#d trajectory\n",
    "px_d = px_hum - px_cam\n",
    "py_d = py_hum - py_cam\n",
    "pz_d = pz_hum - py_cam\n",
    "scale = 5431.2\n",
    "px_d = px_d / scale\n",
    "py_d = py_d / scale\n",
    "pz_d = pz_d / scale"
   ]
  },
  {
   "cell_type": "code",
   "execution_count": 97,
   "metadata": {
    "ExecuteTime": {
     "end_time": "2019-01-15T07:12:27.050297Z",
     "start_time": "2019-01-15T07:12:27.042320Z"
    }
   },
   "outputs": [
    {
     "name": "stdout",
     "output_type": "stream",
     "text": [
      "4\n",
      "[ 9.97        9.97572949  9.99072949 10.00927051]\n",
      "[5.52364118e-06 1.16972908e-05 1.61528954e-05 1.99342480e-05]\n"
     ]
    }
   ],
   "source": [
    "#evaluation\n",
    "print(t_len)\n",
    "print(px_cam[0:10])\n",
    "print(px_d[0:10])"
   ]
  },
  {
   "cell_type": "code",
   "execution_count": 98,
   "metadata": {
    "ExecuteTime": {
     "end_time": "2019-01-15T07:12:27.334237Z",
     "start_time": "2019-01-15T07:12:27.321789Z"
    }
   },
   "outputs": [],
   "source": [
    "#motion calculation\n",
    "cam_motion = np.zeros((t_len-1,3))\n",
    "diff_motion = np.zeros((t_len-1,3))\n",
    "for i in range(t_len-1):\n",
    "    m_cam_k = np.zeros((1,3))\n",
    "    m_diff_k = np.zeros((1,3))\n",
    "    m_cam_k[0][0] = (px_cam[i+1] - px_cam[i]) / 0.05\n",
    "    m_cam_k[0][1] = (py_cam[i+1] - py_cam[i]) / 0.05\n",
    "    m_cam_k[0][2] = (pz_cam[i+1] - pz_cam[i]) / 0.05\n",
    "    m_diff_k[0][0] = (px_d[i+1] - px_d[i]) / 0.05\n",
    "    m_diff_k[0][1] = (py_d[i+1] - py_d[i]) / 0.05\n",
    "    m_diff_k[0][2] = (pz_d[i+1] - pz_d[i]) / 0.05\n",
    "    cam_motion[i] = m_cam_k\n",
    "    diff_motion[i] = m_diff_k\n",
    "mc_mean = cam_motion.mean(axis = 0)\n",
    "md_mean = diff_motion.mean(axis = 0)"
   ]
  },
  {
   "cell_type": "code",
   "execution_count": 99,
   "metadata": {
    "ExecuteTime": {
     "end_time": "2019-01-15T07:12:27.585857Z",
     "start_time": "2019-01-15T07:12:27.576764Z"
    }
   },
   "outputs": [
    {
     "name": "stdout",
     "output_type": "stream",
     "text": [
      "[[ 0.1145898   0.         -0.35267115]\n",
      " [ 0.3         0.         -0.21796276]\n",
      " [ 0.37082039  0.          0.        ]]\n",
      "[[ 1.23472992e-04 -2.83901811e-06  0.00000000e+00]\n",
      " [ 8.91120930e-05 -8.51267678e-06  0.00000000e+00]\n",
      " [ 7.56270514e-05 -1.41732095e-05  0.00000000e+00]]\n",
      "[ 0.2618034  0.        -0.1902113]\n",
      "[ 9.60707120e-05 -8.50830147e-06  0.00000000e+00]\n"
     ]
    }
   ],
   "source": [
    "#evaluation\n",
    "print(cam_motion[0:10])\n",
    "print(diff_motion[0:10])\n",
    "print(mc_mean)\n",
    "print(md_mean)"
   ]
  },
  {
   "cell_type": "code",
   "execution_count": 100,
   "metadata": {
    "ExecuteTime": {
     "end_time": "2019-01-15T07:12:27.953633Z",
     "start_time": "2019-01-15T07:12:27.944927Z"
    }
   },
   "outputs": [],
   "source": [
    "def cov_cal(motion1, motion2, motion1_mean, motion2_mean):\n",
    "    matrix_sum = np.zeros((3,3))\n",
    "    for i in range(t_len-1):\n",
    "        matrix_sum += (motion1[i] - motion1_mean).T * (motion2[i] - motion2_mean)\n",
    "    result = matrix_sum/(t_len-2)\n",
    "    return result\n",
    "    \n",
    "#correlation calculation\n",
    "cov_md_mc = cov_cal(diff_motion, cam_motion, md_mean, mc_mean)\n",
    "cov_mc_mc = cov_cal(cam_motion, cam_motion, mc_mean, mc_mean)"
   ]
  },
  {
   "cell_type": "code",
   "execution_count": 101,
   "metadata": {
    "ExecuteTime": {
     "end_time": "2019-01-15T07:12:28.399935Z",
     "start_time": "2019-01-15T07:12:28.389539Z"
    }
   },
   "outputs": [
    {
     "name": "stdout",
     "output_type": "stream",
     "text": [
      "[[-3.26424507e-06  0.00000000e+00  0.00000000e+00]\n",
      " [-3.26424507e-06  0.00000000e+00  0.00000000e+00]\n",
      " [-3.26424507e-06  0.00000000e+00  0.00000000e+00]]\n",
      "[[0.01750776 0.         0.03167184]\n",
      " [0.01750776 0.         0.03167184]\n",
      " [0.01750776 0.         0.03167184]]\n"
     ]
    },
    {
     "data": {
      "text/plain": [
       "array([[0.00030652, 0.        , 0.00100311],\n",
       "       [0.00030652, 0.        , 0.00100311],\n",
       "       [0.00030652, 0.        , 0.00100311]])"
      ]
     },
     "execution_count": 101,
     "metadata": {},
     "output_type": "execute_result"
    }
   ],
   "source": [
    "#evaluation\n",
    "print(cov_md_mc)\n",
    "print(cov_mc_mc)\n",
    "cov_mc_mc * cov_mc_mc"
   ]
  },
  {
   "cell_type": "code",
   "execution_count": 102,
   "metadata": {
    "ExecuteTime": {
     "end_time": "2019-01-15T07:12:29.080164Z",
     "start_time": "2019-01-15T07:12:29.074601Z"
    }
   },
   "outputs": [],
   "source": [
    "#optimal scale S\n",
    "A = cov_md_mc * cov_mc_mc\n",
    "B = cov_md_mc * cov_md_mc\n",
    "S = -A.sum()/B.sum()"
   ]
  },
  {
   "cell_type": "code",
   "execution_count": 103,
   "metadata": {
    "ExecuteTime": {
     "end_time": "2019-01-15T07:12:30.198041Z",
     "start_time": "2019-01-15T07:12:30.193989Z"
    }
   },
   "outputs": [
    {
     "name": "stdout",
     "output_type": "stream",
     "text": [
      "5363.495600132572\n"
     ]
    }
   ],
   "source": [
    "#solution\n",
    "print(S)\n",
    "#这个结果当时间积累越长，也就是观测数据越多的时候越接近于理论值，也就是物体的真实scale"
   ]
  },
  {
   "cell_type": "code",
   "execution_count": null,
   "metadata": {},
   "outputs": [],
   "source": []
  },
  {
   "cell_type": "code",
   "execution_count": null,
   "metadata": {},
   "outputs": [],
   "source": []
  }
 ],
 "metadata": {
  "kernelspec": {
   "display_name": "Python 3",
   "language": "python",
   "name": "python3"
  },
  "language_info": {
   "codemirror_mode": {
    "name": "ipython",
    "version": 3
   },
   "file_extension": ".py",
   "mimetype": "text/x-python",
   "name": "python",
   "nbconvert_exporter": "python",
   "pygments_lexer": "ipython3",
   "version": "3.7.0"
  },
  "toc": {
   "base_numbering": 1,
   "nav_menu": {},
   "number_sections": true,
   "sideBar": true,
   "skip_h1_title": false,
   "title_cell": "Table of Contents",
   "title_sidebar": "Contents",
   "toc_cell": false,
   "toc_position": {},
   "toc_section_display": true,
   "toc_window_display": false
  },
  "varInspector": {
   "cols": {
    "lenName": 16,
    "lenType": 16,
    "lenVar": 40
   },
   "kernels_config": {
    "python": {
     "delete_cmd_postfix": "",
     "delete_cmd_prefix": "del ",
     "library": "var_list.py",
     "varRefreshCmd": "print(var_dic_list())"
    },
    "r": {
     "delete_cmd_postfix": ") ",
     "delete_cmd_prefix": "rm(",
     "library": "var_list.r",
     "varRefreshCmd": "cat(var_dic_list()) "
    }
   },
   "types_to_exclude": [
    "module",
    "function",
    "builtin_function_or_method",
    "instance",
    "_Feature"
   ],
   "window_display": false
  }
 },
 "nbformat": 4,
 "nbformat_minor": 2
}
