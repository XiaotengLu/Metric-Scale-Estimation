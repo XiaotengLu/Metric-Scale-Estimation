{
 "cells": [
  {
   "cell_type": "code",
   "execution_count": 109,
   "metadata": {
    "ExecuteTime": {
     "end_time": "2019-03-01T07:23:42.591714Z",
     "start_time": "2019-03-01T07:23:42.580337Z"
    }
   },
   "outputs": [],
   "source": [
    "import os, sys\n",
    "import h5py\n",
    "import numpy as np\n",
    "from scipy.io import loadmat\n",
    "import cv2\n",
    "import matplotlib\n",
    "%matplotlib inline \n",
    "import matplotlib.pyplot as plt\n",
    "from mpl_toolkits.mplot3d import Axes3D\n",
    "from numpy import matrix as mat"
   ]
  },
  {
   "cell_type": "code",
   "execution_count": 110,
   "metadata": {
    "ExecuteTime": {
     "end_time": "2019-03-01T07:23:43.116097Z",
     "start_time": "2019-03-01T07:23:43.094982Z"
    }
   },
   "outputs": [
    {
     "name": "stdout",
     "output_type": "stream",
     "text": [
      "dict_keys(['__header__', '__version__', '__globals__', 'annot'])\n"
     ]
    }
   ],
   "source": [
    "m = loadmat(\"valid.mat\")\n",
    "print(m.keys())"
   ]
  },
  {
   "cell_type": "code",
   "execution_count": 111,
   "metadata": {
    "ExecuteTime": {
     "end_time": "2019-03-01T07:23:43.847700Z",
     "start_time": "2019-03-01T07:23:43.833470Z"
    }
   },
   "outputs": [
    {
     "name": "stdout",
     "output_type": "stream",
     "text": [
      "[array(['S9_Posing_1.55011271_000001'], dtype='<U27')]\n",
      "(394, 2)\n",
      "(394, 1)\n",
      "(394, 3, 17)\n",
      "0.5064847669327615\n"
     ]
    }
   ],
   "source": [
    "image_name = m[\"annot\"][0][0][0]\n",
    "print(image_name[0])\n",
    "center = m[\"annot\"][0][0][1]\n",
    "print(center[:].shape)\n",
    "scale = m[\"annot\"][0][0][2]\n",
    "print(scale.shape)\n",
    "gt = m[\"annot\"][0][0][3]\n",
    "print(gt.shape)\n",
    "lenth = ((gt[0][0][0]-gt[0][0][8])**2+(gt[0][1][0]-gt[0][1][8])**2+\n",
    "             (gt[0][2][0]-gt[0][2][8])**2)**(0.5)\n",
    "scale = lenth/1000\n",
    "print(scale)"
   ]
  },
  {
   "cell_type": "code",
   "execution_count": 112,
   "metadata": {
    "ExecuteTime": {
     "end_time": "2019-03-01T07:23:44.376508Z",
     "start_time": "2019-03-01T07:23:44.326241Z"
    }
   },
   "outputs": [
    {
     "name": "stdout",
     "output_type": "stream",
     "text": [
      "[[-3.21855365e+01 -5.43171724e+02  5.40351766e+03]\n",
      " [-2.96551493e+01 -5.43688575e+02  5.40388307e+03]\n",
      " [-2.47249452e+01 -5.46610386e+02  5.40795585e+03]\n",
      " [-1.30441613e+01 -5.52146899e+02  5.41697698e+03]\n",
      " [-3.50979292e+00 -5.53386275e+02  5.42395218e+03]\n",
      " [ 8.59488443e+00 -5.46680507e+02  5.42241348e+03]\n",
      " [ 3.61400074e+01 -5.38359949e+02  5.40629071e+03]\n",
      " [ 6.72255834e+01 -5.38629266e+02  5.39471965e+03]\n",
      " [ 8.90948864e+01 -5.36624251e+02  5.38774592e+03]\n",
      " [ 9.77728569e+01 -5.37230692e+02  5.38483065e+03]]\n"
     ]
    }
   ],
   "source": [
    "kp = np.zeros((17,394,3))\n",
    "for i in range(17):\n",
    "    for frame in range(394):\n",
    "        kp[i][frame][0] = gt[frame][0][i]\n",
    "        kp[i][frame][1] = gt[frame][1][i]\n",
    "        kp[i][frame][2] = gt[frame][2][i]\n",
    "print(kp[0][:10])   # [ ith point ][ frame ][ x,y,z ]\n",
    "# 50Hz video，sample 5 --> 0.1 second per image "
   ]
  },
  {
   "cell_type": "code",
   "execution_count": 220,
   "metadata": {
    "ExecuteTime": {
     "end_time": "2019-03-01T07:39:35.013242Z",
     "start_time": "2019-03-01T07:39:35.001859Z"
    }
   },
   "outputs": [],
   "source": [
    "point_num = 7\n",
    "#time range\n",
    "t_range = np.arange(0, 10, 0.1)   # t <= 39.4\n",
    "t_len = len(t_range)\n",
    "#camera coordinate\n",
    "x_cam, y_cam, z_cam = 0,0,0\n",
    "r_cam = 25 # mm\n",
    "omg_cam = 2 * np.pi\n",
    "#camera trajectory\n",
    "px_cam = x_cam + r_cam * np.cos(omg_cam * t_range + np.pi)\n",
    "py_cam = y_cam + r_cam * np.sin(omg_cam * t_range + np.pi)\n",
    "pz_cam = z_cam + np.zeros(t_len)\n",
    "#human trajectory\n",
    "px_hum= np.zeros((t_len))\n",
    "py_hum = np.zeros((t_len))\n",
    "pz_hum = np.zeros((t_len))\n",
    "for i in range(t_len):\n",
    "    px_hum[i] = kp[point_num][i][0]\n",
    "    py_hum[i] = kp[point_num][i][1]\n",
    "    pz_hum[i]= kp[point_num][i][2]\n",
    "#print(px_hum[0:10])\n",
    "#diff trajectory\n",
    "px_d = px_hum - px_cam\n",
    "py_d = py_hum - py_cam\n",
    "pz_d = pz_hum - py_cam\n",
    "px_d = px_d / scale\n",
    "py_d = py_d / scale\n",
    "pz_d = pz_d / scale"
   ]
  },
  {
   "cell_type": "code",
   "execution_count": 221,
   "metadata": {
    "ExecuteTime": {
     "end_time": "2019-03-01T07:39:35.522588Z",
     "start_time": "2019-03-01T07:39:35.508746Z"
    }
   },
   "outputs": [],
   "source": [
    "#motion calculation\n",
    "cam_motion = np.zeros((t_len-1,3))\n",
    "diff_motion = np.zeros((t_len-1,3))\n",
    "for i in range(t_len-1):\n",
    "    m_cam_k = np.zeros((1,3))\n",
    "    m_diff_k = np.zeros((1,3))\n",
    "    m_cam_k[0][0] = (px_cam[i+1] - px_cam[i]) / 0.1\n",
    "    m_cam_k[0][1] = (py_cam[i+1] - py_cam[i]) / 0.1\n",
    "    m_cam_k[0][2] = (pz_cam[i+1] - pz_cam[i]) / 0.1\n",
    "    m_diff_k[0][0] = (px_d[i+1] - px_d[i]) / 0.1\n",
    "    m_diff_k[0][1] = (py_d[i+1] - py_d[i]) / 0.1\n",
    "    m_diff_k[0][2] = (pz_d[i+1] - pz_d[i]) / 0.1\n",
    "    cam_motion[i] = m_cam_k\n",
    "    diff_motion[i] = m_diff_k\n",
    "mc_mean = cam_motion.mean(axis = 0)\n",
    "md_mean = diff_motion.mean(axis = 0)"
   ]
  },
  {
   "cell_type": "code",
   "execution_count": 222,
   "metadata": {
    "ExecuteTime": {
     "end_time": "2019-03-01T07:39:35.979426Z",
     "start_time": "2019-03-01T07:39:35.966970Z"
    }
   },
   "outputs": [],
   "source": [
    "def cov_cal(motion1, motion2, motion1_mean, motion2_mean):\n",
    "    matrix_sum = np.zeros((3,3))\n",
    "    for i in range(t_len-1):\n",
    "        matrix_sum += (motion1[i] - motion1_mean).T * (motion2[i] - motion2_mean)\n",
    "    result = matrix_sum/(t_len-2)\n",
    "    return result\n",
    "    \n",
    "#correlation calculation\n",
    "cov_md_mc = cov_cal(diff_motion, cam_motion, md_mean, mc_mean)\n",
    "cov_mc_mc = cov_cal(cam_motion, cam_motion, mc_mean, mc_mean)"
   ]
  },
  {
   "cell_type": "code",
   "execution_count": 223,
   "metadata": {
    "ExecuteTime": {
     "end_time": "2019-03-01T07:39:36.431281Z",
     "start_time": "2019-03-01T07:39:36.425773Z"
    }
   },
   "outputs": [
    {
     "name": "stdout",
     "output_type": "stream",
     "text": [
      "0.5277694511901928\n"
     ]
    }
   ],
   "source": [
    "#optimal scale S\n",
    "A = cov_md_mc * cov_mc_mc\n",
    "B = cov_md_mc * cov_md_mc\n",
    "S = -A.sum()/B.sum()\n",
    "#solution\n",
    "print(S)"
   ]
  },
  {
   "cell_type": "code",
   "execution_count": 179,
   "metadata": {
    "ExecuteTime": {
     "end_time": "2019-03-01T07:35:28.777990Z",
     "start_time": "2019-03-01T07:35:28.773465Z"
    }
   },
   "outputs": [],
   "source": [
    "#角速度重要性大于半径"
   ]
  },
  {
   "cell_type": "code",
   "execution_count": null,
   "metadata": {},
   "outputs": [],
   "source": []
  }
 ],
 "metadata": {
  "kernelspec": {
   "display_name": "Python 3",
   "language": "python",
   "name": "python3"
  },
  "language_info": {
   "codemirror_mode": {
    "name": "ipython",
    "version": 3
   },
   "file_extension": ".py",
   "mimetype": "text/x-python",
   "name": "python",
   "nbconvert_exporter": "python",
   "pygments_lexer": "ipython3",
   "version": "3.7.0"
  },
  "toc": {
   "base_numbering": 1,
   "nav_menu": {},
   "number_sections": true,
   "sideBar": true,
   "skip_h1_title": false,
   "title_cell": "Table of Contents",
   "title_sidebar": "Contents",
   "toc_cell": false,
   "toc_position": {},
   "toc_section_display": true,
   "toc_window_display": false
  },
  "varInspector": {
   "cols": {
    "lenName": 16,
    "lenType": 16,
    "lenVar": 40
   },
   "kernels_config": {
    "python": {
     "delete_cmd_postfix": "",
     "delete_cmd_prefix": "del ",
     "library": "var_list.py",
     "varRefreshCmd": "print(var_dic_list())"
    },
    "r": {
     "delete_cmd_postfix": ") ",
     "delete_cmd_prefix": "rm(",
     "library": "var_list.r",
     "varRefreshCmd": "cat(var_dic_list()) "
    }
   },
   "types_to_exclude": [
    "module",
    "function",
    "builtin_function_or_method",
    "instance",
    "_Feature"
   ],
   "window_display": false
  }
 },
 "nbformat": 4,
 "nbformat_minor": 2
}
