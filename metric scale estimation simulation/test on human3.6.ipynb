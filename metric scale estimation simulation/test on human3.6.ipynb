{
 "cells": [
  {
   "cell_type": "code",
   "execution_count": 1,
   "metadata": {
    "ExecuteTime": {
     "end_time": "2019-03-24T06:27:02.208373Z",
     "start_time": "2019-03-24T06:26:59.220955Z"
    }
   },
   "outputs": [],
   "source": [
    "import os, sys\n",
    "import h5py\n",
    "import numpy as np\n",
    "from scipy.io import loadmat\n",
    "import cv2\n",
    "import matplotlib\n",
    "%matplotlib inline \n",
    "import matplotlib.pyplot as plt\n",
    "from mpl_toolkits.mplot3d import Axes3D\n",
    "from numpy import matrix as mat"
   ]
  },
  {
   "cell_type": "code",
   "execution_count": 2,
   "metadata": {
    "ExecuteTime": {
     "end_time": "2019-03-24T06:27:02.263800Z",
     "start_time": "2019-03-24T06:27:02.234838Z"
    }
   },
   "outputs": [
    {
     "name": "stdout",
     "output_type": "stream",
     "text": [
      "dict_keys(['__header__', '__version__', '__globals__', 'annot'])\n"
     ]
    }
   ],
   "source": [
    "m = loadmat(\"valid.mat\")\n",
    "print(m.keys())"
   ]
  },
  {
   "cell_type": "code",
   "execution_count": 3,
   "metadata": {
    "ExecuteTime": {
     "end_time": "2019-03-24T06:27:02.571448Z",
     "start_time": "2019-03-24T06:27:02.558912Z"
    }
   },
   "outputs": [
    {
     "name": "stdout",
     "output_type": "stream",
     "text": [
      "[array(['S9_Posing_1.55011271_000001'], dtype='<U27')]\n",
      "(394, 2)\n",
      "(394, 1)\n",
      "(394, 3, 17)\n",
      "0.5064847669327615\n"
     ]
    }
   ],
   "source": [
    "image_name = m[\"annot\"][0][0][0]\n",
    "print(image_name[0])\n",
    "center = m[\"annot\"][0][0][1]\n",
    "print(center[:].shape)\n",
    "scale = m[\"annot\"][0][0][2]\n",
    "print(scale.shape)\n",
    "gt = m[\"annot\"][0][0][3]\n",
    "print(gt.shape)\n",
    "lenth = ((gt[0][0][0]-gt[0][0][8])**2+(gt[0][1][0]-gt[0][1][8])**2+\n",
    "             (gt[0][2][0]-gt[0][2][8])**2)**(0.5)\n",
    "scale = lenth/1000\n",
    "print(scale)"
   ]
  },
  {
   "cell_type": "code",
   "execution_count": 4,
   "metadata": {
    "ExecuteTime": {
     "end_time": "2019-03-24T06:27:02.969954Z",
     "start_time": "2019-03-24T06:27:02.926466Z"
    }
   },
   "outputs": [
    {
     "name": "stdout",
     "output_type": "stream",
     "text": [
      "[[-3.21855365e+01 -5.43171724e+02  5.40351766e+03]\n",
      " [-2.96551493e+01 -5.43688575e+02  5.40388307e+03]\n",
      " [-2.47249452e+01 -5.46610386e+02  5.40795585e+03]\n",
      " [-1.30441613e+01 -5.52146899e+02  5.41697698e+03]\n",
      " [-3.50979292e+00 -5.53386275e+02  5.42395218e+03]\n",
      " [ 8.59488443e+00 -5.46680507e+02  5.42241348e+03]\n",
      " [ 3.61400074e+01 -5.38359949e+02  5.40629071e+03]\n",
      " [ 6.72255834e+01 -5.38629266e+02  5.39471965e+03]\n",
      " [ 8.90948864e+01 -5.36624251e+02  5.38774592e+03]\n",
      " [ 9.77728569e+01 -5.37230692e+02  5.38483065e+03]]\n"
     ]
    }
   ],
   "source": [
    "kp = np.zeros((18,394,3))\n",
    "for i in range(17):\n",
    "    for frame in range(394):\n",
    "        kp[i][frame][0] = gt[frame][0][i]\n",
    "        kp[i][frame][1] = gt[frame][1][i]\n",
    "        kp[i][frame][2] = gt[frame][2][i]\n",
    "print(kp[0][:10])   # [ ith point ][ frame ][ x,y,z ]\n",
    "# 50Hz video，sample 5 --> 0.1 second per image "
   ]
  },
  {
   "cell_type": "code",
   "execution_count": 5,
   "metadata": {
    "ExecuteTime": {
     "end_time": "2019-03-24T06:27:03.523989Z",
     "start_time": "2019-03-24T06:27:03.479564Z"
    }
   },
   "outputs": [
    {
     "name": "stdout",
     "output_type": "stream",
     "text": [
      "[[ -16.68807687 -666.91435408 5405.8121701 ]\n",
      " [ -15.91177218 -666.58006381 5406.4677378 ]\n",
      " [ -16.43919606 -668.57042707 5408.01079269]\n",
      " ...\n",
      " [-256.17816287 -540.606673   5139.26774503]\n",
      " [-254.4438796  -521.38684393 5150.10763805]\n",
      " [-249.03792971 -504.75943427 5166.64538453]]\n"
     ]
    }
   ],
   "source": [
    "for frame in range(394):\n",
    "    point_sum = 0\n",
    "    for p in range(17):\n",
    "        point_sum += kp[p][frame]\n",
    "    kp[17][frame] = point_sum / 17\n",
    "print(kp[17])"
   ]
  },
  {
   "cell_type": "code",
   "execution_count": 457,
   "metadata": {
    "ExecuteTime": {
     "end_time": "2019-03-24T10:09:12.557806Z",
     "start_time": "2019-03-24T10:09:12.545321Z"
    }
   },
   "outputs": [],
   "source": [
    "point_num = 17\n",
    "init = 200   # init frame\n",
    "#time range\n",
    "t_range = np.arange(0, 5, 0.1)   # t <= 39.4\n",
    "t_len = len(t_range)\n",
    "#camera coordinate\n",
    "x_cam, y_cam, z_cam = 0,0,0\n",
    "r_cam = 50 # mm\n",
    "omg_cam = 2 * np.pi\n",
    "#camera trajectory\n",
    "px_cam = x_cam + r_cam * np.cos(omg_cam * t_range + np.pi)\n",
    "py_cam = y_cam + r_cam * np.sin(omg_cam * t_range + np.pi)\n",
    "pz_cam = z_cam + np.zeros(t_len)\n",
    "#human trajectory\n",
    "px_hum= np.zeros((t_len))\n",
    "py_hum = np.zeros((t_len))\n",
    "pz_hum = np.zeros((t_len))\n",
    "for i in range(t_len):\n",
    "    px_hum[i] = kp[point_num][init+i][0]\n",
    "    py_hum[i] = kp[point_num][init+i][1]\n",
    "    pz_hum[i]= kp[point_num][init+i][2]\n",
    "#print(px_hum[0:10])\n",
    "#diff trajectory\n",
    "px_d = px_hum - px_cam\n",
    "py_d = py_hum - py_cam\n",
    "pz_d = pz_hum - py_cam\n",
    "px_d = px_d / scale\n",
    "py_d = py_d / scale\n",
    "pz_d = pz_d / scale"
   ]
  },
  {
   "cell_type": "code",
   "execution_count": 458,
   "metadata": {
    "ExecuteTime": {
     "end_time": "2019-03-24T10:09:13.083524Z",
     "start_time": "2019-03-24T10:09:13.065445Z"
    }
   },
   "outputs": [],
   "source": [
    "#motion calculation\n",
    "cam_motion = np.zeros((t_len-1,3))\n",
    "diff_motion = np.zeros((t_len-1,3))\n",
    "for i in range(t_len-1):\n",
    "    m_cam_k = np.zeros((1,3))\n",
    "    m_diff_k = np.zeros((1,3))\n",
    "    m_cam_k[0][0] = (px_cam[i+1] - px_cam[i]) / 0.1\n",
    "    m_cam_k[0][1] = (py_cam[i+1] - py_cam[i]) / 0.1\n",
    "    m_cam_k[0][2] = (pz_cam[i+1] - pz_cam[i]) / 0.1\n",
    "    m_diff_k[0][0] = (px_d[i+1] - px_d[i]) / 0.1\n",
    "    m_diff_k[0][1] = (py_d[i+1] - py_d[i]) / 0.1\n",
    "    m_diff_k[0][2] = (pz_d[i+1] - pz_d[i]) / 0.1\n",
    "    cam_motion[i] = m_cam_k\n",
    "    diff_motion[i] = m_diff_k\n",
    "mc_mean = cam_motion.mean(axis = 0)\n",
    "md_mean = diff_motion.mean(axis = 0)"
   ]
  },
  {
   "cell_type": "code",
   "execution_count": 459,
   "metadata": {
    "ExecuteTime": {
     "end_time": "2019-03-24T10:09:13.499834Z",
     "start_time": "2019-03-24T10:09:13.489280Z"
    }
   },
   "outputs": [],
   "source": [
    "def cov_cal(motion1, motion2, motion1_mean, motion2_mean):\n",
    "    matrix_sum = np.zeros((3,3))\n",
    "    for i in range(t_len-1):\n",
    "        matrix_sum += (motion1[i] - motion1_mean).T * (motion2[i] - motion2_mean)\n",
    "    result = matrix_sum/(t_len-2)\n",
    "    return result\n",
    "    \n",
    "#correlation calculation\n",
    "cov_md_mc = cov_cal(diff_motion, cam_motion, md_mean, mc_mean)\n",
    "cov_mc_mc = cov_cal(cam_motion, cam_motion, mc_mean, mc_mean)"
   ]
  },
  {
   "cell_type": "code",
   "execution_count": 460,
   "metadata": {
    "ExecuteTime": {
     "end_time": "2019-03-24T10:09:13.920656Z",
     "start_time": "2019-03-24T10:09:13.910660Z"
    }
   },
   "outputs": [
    {
     "name": "stdout",
     "output_type": "stream",
     "text": [
      "Scale = 0.4727419796091937\n",
      "F(S) = 38.82206381661224\n",
      "Cov_MdMc = 63.57091415360486\n"
     ]
    }
   ],
   "source": [
    "#optimal scale S\n",
    "A = cov_md_mc * cov_mc_mc\n",
    "B = cov_md_mc * cov_md_mc\n",
    "C = cov_mc_mc * cov_mc_mc\n",
    "S = -A.sum()/B.sum()\n",
    "#solution\n",
    "print('Scale =', S)\n",
    "f = B.sum() * S * S + 2 * A.sum() * S + C.sum()\n",
    "print('F(S) =', f/1000000)\n",
    "print('Cov_MdMc =', B.sum()/1000000000)\n",
    "#print('Cov_McMc =', C.sum()/1000000000)"
   ]
  },
  {
   "cell_type": "markdown",
   "metadata": {
    "ExecuteTime": {
     "end_time": "2019-03-01T07:35:28.777990Z",
     "start_time": "2019-03-01T07:35:28.773465Z"
    }
   },
   "source": [
    "#角速度重要性大于半径"
   ]
  },
  {
   "cell_type": "code",
   "execution_count": null,
   "metadata": {},
   "outputs": [],
   "source": []
  }
 ],
 "metadata": {
  "kernelspec": {
   "display_name": "Python 3",
   "language": "python",
   "name": "python3"
  },
  "language_info": {
   "codemirror_mode": {
    "name": "ipython",
    "version": 3
   },
   "file_extension": ".py",
   "mimetype": "text/x-python",
   "name": "python",
   "nbconvert_exporter": "python",
   "pygments_lexer": "ipython3",
   "version": "3.7.0"
  },
  "toc": {
   "base_numbering": 1,
   "nav_menu": {},
   "number_sections": true,
   "sideBar": true,
   "skip_h1_title": false,
   "title_cell": "Table of Contents",
   "title_sidebar": "Contents",
   "toc_cell": false,
   "toc_position": {},
   "toc_section_display": true,
   "toc_window_display": false
  },
  "varInspector": {
   "cols": {
    "lenName": 16,
    "lenType": 16,
    "lenVar": 40
   },
   "kernels_config": {
    "python": {
     "delete_cmd_postfix": "",
     "delete_cmd_prefix": "del ",
     "library": "var_list.py",
     "varRefreshCmd": "print(var_dic_list())"
    },
    "r": {
     "delete_cmd_postfix": ") ",
     "delete_cmd_prefix": "rm(",
     "library": "var_list.r",
     "varRefreshCmd": "cat(var_dic_list()) "
    }
   },
   "types_to_exclude": [
    "module",
    "function",
    "builtin_function_or_method",
    "instance",
    "_Feature"
   ],
   "window_display": false
  }
 },
 "nbformat": 4,
 "nbformat_minor": 2
}
